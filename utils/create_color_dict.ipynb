{
 "cells": [
  {
   "cell_type": "code",
   "execution_count": 1,
   "metadata": {},
   "outputs": [],
   "source": [
    "import pandas as pd\n",
    "import json"
   ]
  },
  {
   "cell_type": "markdown",
   "metadata": {},
   "source": [
    "## Cell colors"
   ]
  },
  {
   "cell_type": "code",
   "execution_count": null,
   "metadata": {},
   "outputs": [],
   "source": [
    "path_to_colors = './cellClassColors.json'"
   ]
  },
  {
   "cell_type": "code",
   "execution_count": null,
   "metadata": {},
   "outputs": [],
   "source": [
    "with open(path_to_colors, 'r') as file:\n",
    "    cellClassColors = json.load(file)"
   ]
  },
  {
   "cell_type": "code",
   "execution_count": null,
   "metadata": {},
   "outputs": [],
   "source": [
    "cell_color = pd.DataFrame(cellClassColors)"
   ]
  },
  {
   "cell_type": "code",
   "execution_count": null,
   "metadata": {},
   "outputs": [],
   "source": [
    "cell_color = cell_color.sort_values(by='className', ignore_index=True)\n",
    "cell_color.to_csv('./cell_color.csv')"
   ]
  },
  {
   "cell_type": "markdown",
   "metadata": {},
   "source": [
    "## Gene colors"
   ]
  },
  {
   "cell_type": "code",
   "execution_count": null,
   "metadata": {},
   "outputs": [],
   "source": [
    "path_to_genecolors = './gene_color.csv'"
   ]
  },
  {
   "cell_type": "code",
   "execution_count": null,
   "metadata": {},
   "outputs": [],
   "source": [
    "gene_color = pd.read_csv(path_to_genecolors)\n",
    "gene_color = gene_color.rename(columns={'New_symbols1': 'GeneNames', 'New_symbols2_1': 'ColorR', 'New_symbols2_2': 'ColorG', 'New_symbols2_3': 'ColorB','New_symbols3': 'Symbols'})"
   ]
  },
  {
   "cell_type": "code",
   "execution_count": null,
   "metadata": {},
   "outputs": [],
   "source": [
    "# Gene color \n",
    "\n",
    "gene_color_dict = dict()\n",
    "\n",
    "for g in gene_color.index:\n",
    "    \n",
    "    gene_color_dict[gene_color.loc[g, 'GeneNames']] = (gene_color.loc[g, 'ColorR'], gene_color.loc[g, 'ColorG'], gene_color.loc[g, 'ColorB'])"
   ]
  },
  {
   "cell_type": "code",
   "execution_count": null,
   "metadata": {},
   "outputs": [],
   "source": [
    "# Napari symbols\n",
    "symb = {\n",
    "    '*': 'clobber',\n",
    "    '+': 'cross',\n",
    "    '.': 'disc', \n",
    "    '<': 'hbar',\n",
    "    '>': 'vbar',\n",
    "    '^': 'triangle_up',\n",
    "    'd': 'diamond',\n",
    "    'o': 'ring',\n",
    "    'p': 'star',\n",
    "    's': 'square',\n",
    "    'v': 'triangle_down',\n",
    "    'h': 'arrow',\n",
    "    'x': 'x'\n",
    "}"
   ]
  },
  {
   "cell_type": "code",
   "execution_count": null,
   "metadata": {},
   "outputs": [],
   "source": [
    "# Symbols for legend\n",
    "mpl_symb = {\n",
    "    '*': '$♣$',\n",
    "    '+': '+',\n",
    "    '.': '.', \n",
    "    '<': '|',\n",
    "    '>': '_',\n",
    "    '^': '^',\n",
    "    'd': 'd',\n",
    "    'o': 'o',\n",
    "    'p': '*',\n",
    "    's': 's',\n",
    "    'v': 'v',\n",
    "    'h': '>',\n",
    "    'x': 'x'\n",
    "}"
   ]
  },
  {
   "cell_type": "code",
   "execution_count": null,
   "metadata": {},
   "outputs": [],
   "source": [
    "for g in gene_color.index:\n",
    "    \n",
    "    gene_color.loc[g, 'napari_symbol'] = symb[gene_color.loc[g, 'Symbols']]\n",
    "    gene_color.loc[g, 'mpl_symbol'] = mpl_symb[gene_color.loc[g, 'Symbols']]"
   ]
  },
  {
   "cell_type": "code",
   "execution_count": null,
   "metadata": {},
   "outputs": [],
   "source": [
    "gene_color.to_csv('./gene_color_v2.csv')"
   ]
  }
 ],
 "metadata": {
  "kernelspec": {
   "display_name": "napari",
   "language": "python",
   "name": "napari"
  },
  "language_info": {
   "codemirror_mode": {
    "name": "ipython",
    "version": 3
   },
   "file_extension": ".py",
   "mimetype": "text/x-python",
   "name": "python",
   "nbconvert_exporter": "python",
   "pygments_lexer": "ipython3",
   "version": "3.9.5"
  }
 },
 "nbformat": 4,
 "nbformat_minor": 4
}
