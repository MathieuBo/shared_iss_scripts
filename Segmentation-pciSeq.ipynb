{
 "cells": [
  {
   "cell_type": "code",
   "execution_count": 3,
   "id": "a251e00c",
   "metadata": {},
   "outputs": [],
   "source": [
    "import numpy as np\n",
    "import napari\n",
    "\n",
    "import matplotlib.pyplot as plt\n",
    "\n",
    "from skimage.io import imread, imsave\n",
    "from skimage import exposure\n",
    "\n",
    "from aicsimageio.readers.tiff_reader import TiffReader\n",
    "\n",
    "from cellpose import models, io\n",
    "\n",
    "from tqdm.notebook import tqdm"
   ]
  },
  {
   "cell_type": "code",
   "execution_count": 4,
   "id": "d1f7c1fa",
   "metadata": {},
   "outputs": [
    {
     "name": "stdout",
     "output_type": "stream",
     "text": [
      "creating new log file\n",
      "2022-05-23 14:02:22,704 [INFO] WRITING LOG OUTPUT TO C:\\Users\\KarenDuffGroup\\.cellpose\\run.log\n"
     ]
    }
   ],
   "source": [
    "from cellpose.io import logger_setup\n",
    "logger, logfile = logger_setup()"
   ]
  },
  {
   "cell_type": "markdown",
   "id": "50d2fd71",
   "metadata": {},
   "source": [
    "## Start napari"
   ]
  },
  {
   "cell_type": "code",
   "execution_count": 5,
   "id": "77e1bac3",
   "metadata": {},
   "outputs": [
    {
     "name": "stderr",
     "output_type": "stream",
     "text": [
      "C:\\Users\\KarenDuffGroup\\AppData\\Roaming\\Python\\Python38\\site-packages\\napari_tools_menu\\__init__.py:165: FutureWarning: Public access to Window.qt_viewer is deprecated and will be removed in\n",
      "v0.5.0. It is considered an \"implementation detail\" of the napari\n",
      "application, not part of the napari viewer model. If your use case\n",
      "requires access to qt_viewer, please open an issue to discuss.\n",
      "  self.tools_menu = ToolsMenu(self, self.qt_viewer.viewer)\n",
      "WARNING: QWindowsWindow::setGeometry: Unable to set geometry 1400x1370+0+20 (frame: 1422x1426-11-25) on QWidgetWindow/\"_QtMainWindowClassWindow\" on \"\\\\.\\DISPLAY1\". Resulting geometry: 2102x2058+3+34 (frame: 2124x2114-8-11) margins: 11, 45, 11, 11 minimum size: 608x585 MINMAXINFO maxSize=0,0 maxpos=0,0 mintrack=1238,1226 maxtrack=0,0)\n"
     ]
    },
    {
     "name": "stdout",
     "output_type": "stream",
     "text": [
      "2022-05-23 14:02:27,100 [WARNING] QWindowsWindow::setGeometry: Unable to set geometry 1400x1370+0+20 (frame: 1422x1426-11-25) on QWidgetWindow/\"_QtMainWindowClassWindow\" on \"\\\\.\\DISPLAY1\". Resulting geometry: 2102x2058+3+34 (frame: 2124x2114-8-11) margins: 11, 45, 11, 11 minimum size: 608x585 MINMAXINFO maxSize=0,0 maxpos=0,0 mintrack=1238,1226 maxtrack=0,0)\n"
     ]
    }
   ],
   "source": [
    "viewer = napari.Viewer()"
   ]
  },
  {
   "cell_type": "markdown",
   "id": "9ab4716a",
   "metadata": {},
   "source": [
    "## Load image and check channels"
   ]
  },
  {
   "cell_type": "code",
   "execution_count": 6,
   "id": "6b765737",
   "metadata": {},
   "outputs": [],
   "source": [
    "im = imread('F:20220517_PS19_161_RL_Atto425_520xl/output_Left/round_RL018_b1_stitched_image.tif')"
   ]
  },
  {
   "cell_type": "code",
   "execution_count": 7,
   "id": "bf36cae8",
   "metadata": {},
   "outputs": [
    {
     "data": {
      "text/plain": [
       "(63, 5646, 7492)"
      ]
     },
     "execution_count": 7,
     "metadata": {},
     "output_type": "execute_result"
    }
   ],
   "source": [
    "im.shape"
   ]
  },
  {
   "cell_type": "code",
   "execution_count": 8,
   "id": "2630214e",
   "metadata": {},
   "outputs": [
    {
     "data": {
      "text/plain": [
       "<Image layer 'dapi' at 0x1cd97c9ed30>"
      ]
     },
     "execution_count": 8,
     "metadata": {},
     "output_type": "execute_result"
    }
   ],
   "source": [
    "viewer.add_image(im, name='dapi', blending='additive', colormap='bop blue', scale=[1,1,1])"
   ]
  },
  {
   "cell_type": "markdown",
   "id": "7becb34b",
   "metadata": {},
   "source": [
    "## Nuclear segmentation on dapi"
   ]
  },
  {
   "cell_type": "code",
   "execution_count": 9,
   "id": "2fb08722",
   "metadata": {},
   "outputs": [
    {
     "name": "stdout",
     "output_type": "stream",
     "text": [
      "2022-05-23 14:09:23,359 [INFO] >>>> loading model F:cellpose_training_DAPI/2D/models/CP_DAPI_ISS\n",
      "2022-05-23 14:09:23,659 [INFO] ** TORCH CUDA version installed and working. **\n",
      "2022-05-23 14:09:23,659 [INFO] >>>> using GPU\n",
      "2022-05-23 14:09:25,049 [INFO] >>>> model diam_mean =  30.000 (ROIs rescaled to this size during training)\n",
      "2022-05-23 14:09:25,049 [INFO] >>>> model diam_labels =  32.439 (mean diameter of training ROIs)\n"
     ]
    }
   ],
   "source": [
    "# Define cell model\n",
    "path_to_model = 'F:cellpose_training_DAPI/2D/models/CP_DAPI_ISS' # edit path to ISS folder\n",
    "\n",
    "model = models.CellposeModel(pretrained_model=path_to_model, gpu=True)"
   ]
  },
  {
   "cell_type": "code",
   "execution_count": 10,
   "id": "5b1631ad",
   "metadata": {},
   "outputs": [],
   "source": [
    "# Cellpose parameters\n",
    "cellpose_ini = {\n",
    "   'channels': [0, 0],\n",
    "   'batch_size': 16,\n",
    "   'anisotropy': 1.0,\n",
    "   'cellprob_threshold': 0,\n",
    "   'flow_threshold': 0.5, #Useless in 3D\n",
    "    'stitch_threshold': 0.5,\n",
    "    'do_3D' : False,\n",
    "    'progress' : True\n",
    "}"
   ]
  },
  {
   "cell_type": "code",
   "execution_count": 11,
   "id": "ba37be12",
   "metadata": {},
   "outputs": [
    {
     "name": "stdout",
     "output_type": "stream",
     "text": [
      "2022-05-23 14:10:12,482 [INFO] multi-stack tiff read in as having 63 planes 1 channels\n",
      "2022-05-23 14:10:26,447 [INFO] 0%|          | 0/63 [00:00<?, ?it/s]\n",
      "2022-05-23 14:10:38,220 [INFO] 2%|1         | 1/63 [00:11<12:09, 11.77s/it]\n",
      "2022-05-23 14:10:46,538 [INFO] 3%|3         | 2/63 [00:20<09:54,  9.74s/it]\n",
      "2022-05-23 14:10:55,419 [INFO] 5%|4         | 3/63 [00:28<09:20,  9.35s/it]\n",
      "2022-05-23 14:11:04,255 [INFO] 6%|6         | 4/63 [00:37<08:59,  9.15s/it]\n",
      "2022-05-23 14:11:13,167 [INFO] 8%|7         | 5/63 [00:46<08:45,  9.06s/it]\n",
      "2022-05-23 14:11:22,016 [INFO] 10%|9         | 6/63 [00:55<08:32,  8.99s/it]\n",
      "2022-05-23 14:11:31,102 [INFO] 11%|#1        | 7/63 [01:04<08:25,  9.02s/it]\n",
      "2022-05-23 14:11:40,095 [INFO] 13%|#2        | 8/63 [01:13<08:15,  9.01s/it]\n",
      "2022-05-23 14:11:49,095 [INFO] 14%|#4        | 9/63 [01:22<08:06,  9.01s/it]\n",
      "2022-05-23 14:11:58,026 [INFO] 16%|#5        | 10/63 [01:31<07:56,  8.98s/it]\n",
      "2022-05-23 14:12:07,239 [INFO] 17%|#7        | 11/63 [01:40<07:50,  9.05s/it]\n",
      "2022-05-23 14:12:16,258 [INFO] 19%|#9        | 12/63 [01:49<07:41,  9.04s/it]\n",
      "2022-05-23 14:12:25,590 [INFO] 21%|##        | 13/63 [01:59<07:36,  9.13s/it]\n",
      "2022-05-23 14:12:34,583 [INFO] 22%|##2       | 14/63 [02:08<07:25,  9.09s/it]\n",
      "2022-05-23 14:12:43,610 [INFO] 24%|##3       | 15/63 [02:17<07:15,  9.07s/it]\n",
      "2022-05-23 14:12:52,559 [INFO] 25%|##5       | 16/63 [02:26<07:04,  9.03s/it]\n",
      "2022-05-23 14:13:01,596 [INFO] 27%|##6       | 17/63 [02:35<06:55,  9.03s/it]\n",
      "2022-05-23 14:13:10,561 [INFO] 29%|##8       | 18/63 [02:44<06:45,  9.01s/it]\n",
      "2022-05-23 14:13:20,051 [INFO] 30%|###       | 19/63 [02:53<06:42,  9.16s/it]\n",
      "2022-05-23 14:13:29,290 [INFO] 32%|###1      | 20/63 [03:02<06:34,  9.18s/it]\n",
      "2022-05-23 14:13:38,449 [INFO] 33%|###3      | 21/63 [03:12<06:25,  9.17s/it]\n",
      "2022-05-23 14:13:47,586 [INFO] 35%|###4      | 22/63 [03:21<06:15,  9.16s/it]\n",
      "2022-05-23 14:13:57,133 [INFO] 37%|###6      | 23/63 [03:30<06:11,  9.28s/it]\n",
      "2022-05-23 14:14:06,023 [INFO] 38%|###8      | 24/63 [03:39<05:57,  9.16s/it]\n",
      "2022-05-23 14:14:15,083 [INFO] 40%|###9      | 25/63 [03:48<05:46,  9.13s/it]\n",
      "2022-05-23 14:14:24,369 [INFO] 41%|####1     | 26/63 [03:57<05:39,  9.18s/it]\n",
      "2022-05-23 14:14:34,331 [INFO] 43%|####2     | 27/63 [04:07<05:38,  9.41s/it]\n",
      "2022-05-23 14:14:44,033 [INFO] 44%|####4     | 28/63 [04:17<05:32,  9.50s/it]\n",
      "2022-05-23 14:14:53,305 [INFO] 46%|####6     | 29/63 [04:26<05:20,  9.43s/it]\n",
      "2022-05-23 14:15:02,559 [INFO] 48%|####7     | 30/63 [04:36<05:09,  9.38s/it]\n",
      "2022-05-23 14:15:11,595 [INFO] 49%|####9     | 31/63 [04:45<04:56,  9.28s/it]\n",
      "2022-05-23 14:15:21,525 [INFO] 51%|#####     | 32/63 [04:55<04:53,  9.47s/it]\n",
      "2022-05-23 14:15:31,233 [INFO] 52%|#####2    | 33/63 [05:04<04:46,  9.54s/it]\n",
      "2022-05-23 14:15:41,307 [INFO] 54%|#####3    | 34/63 [05:14<04:41,  9.70s/it]\n",
      "2022-05-23 14:15:51,057 [INFO] 56%|#####5    | 35/63 [05:24<04:32,  9.72s/it]\n",
      "2022-05-23 14:16:00,606 [INFO] 57%|#####7    | 36/63 [05:34<04:20,  9.67s/it]\n",
      "2022-05-23 14:16:09,807 [INFO] 59%|#####8    | 37/63 [05:43<04:07,  9.53s/it]\n",
      "2022-05-23 14:16:19,661 [INFO] 60%|######    | 38/63 [05:53<04:00,  9.62s/it]\n",
      "2022-05-23 14:16:29,932 [INFO] 62%|######1   | 39/63 [06:03<03:55,  9.82s/it]\n",
      "2022-05-23 14:16:39,240 [INFO] 63%|######3   | 40/63 [06:12<03:42,  9.66s/it]\n",
      "2022-05-23 14:16:48,474 [INFO] 65%|######5   | 41/63 [06:22<03:29,  9.53s/it]\n",
      "2022-05-23 14:16:57,525 [INFO] 67%|######6   | 42/63 [06:31<03:17,  9.39s/it]\n",
      "2022-05-23 14:17:07,089 [INFO] 68%|######8   | 43/63 [06:40<03:08,  9.44s/it]\n",
      "2022-05-23 14:17:16,367 [INFO] 70%|######9   | 44/63 [06:49<02:58,  9.39s/it]\n",
      "2022-05-23 14:17:25,408 [INFO] 71%|#######1  | 45/63 [06:58<02:47,  9.29s/it]\n",
      "2022-05-23 14:17:34,445 [INFO] 73%|#######3  | 46/63 [07:07<02:36,  9.21s/it]\n",
      "2022-05-23 14:17:43,632 [INFO] 75%|#######4  | 47/63 [07:17<02:27,  9.20s/it]\n",
      "2022-05-23 14:17:52,920 [INFO] 76%|#######6  | 48/63 [07:26<02:18,  9.23s/it]\n",
      "2022-05-23 14:18:02,173 [INFO] 78%|#######7  | 49/63 [07:35<02:09,  9.24s/it]\n",
      "2022-05-23 14:18:11,312 [INFO] 79%|#######9  | 50/63 [07:44<01:59,  9.21s/it]\n",
      "2022-05-23 14:18:20,365 [INFO] 81%|########  | 51/63 [07:53<01:49,  9.16s/it]\n",
      "2022-05-23 14:18:29,509 [INFO] 83%|########2 | 52/63 [08:03<01:40,  9.16s/it]\n",
      "2022-05-23 14:18:38,580 [INFO] 84%|########4 | 53/63 [08:12<01:31,  9.13s/it]\n",
      "2022-05-23 14:18:47,533 [INFO] 86%|########5 | 54/63 [08:21<01:21,  9.08s/it]\n",
      "2022-05-23 14:18:57,139 [INFO] 87%|########7 | 55/63 [08:30<01:13,  9.24s/it]\n",
      "2022-05-23 14:19:06,550 [INFO] 89%|########8 | 56/63 [08:40<01:05,  9.29s/it]\n",
      "2022-05-23 14:19:16,232 [INFO] 90%|######### | 57/63 [08:49<00:56,  9.41s/it]\n",
      "2022-05-23 14:19:25,355 [INFO] 92%|#########2| 58/63 [08:58<00:46,  9.32s/it]\n",
      "2022-05-23 14:19:34,377 [INFO] 94%|#########3| 59/63 [09:07<00:36,  9.23s/it]\n",
      "2022-05-23 14:19:43,326 [INFO] 95%|#########5| 60/63 [09:16<00:27,  9.15s/it]\n",
      "2022-05-23 14:19:52,298 [INFO] 97%|#########6| 61/63 [09:25<00:18,  9.09s/it]\n",
      "2022-05-23 14:20:01,235 [INFO] 98%|#########8| 62/63 [09:34<00:09,  9.05s/it]\n",
      "2022-05-23 14:20:10,144 [INFO] 100%|##########| 63/63 [09:43<00:00,  9.01s/it]\n",
      "2022-05-23 14:20:10,144 [INFO] 100%|##########| 63/63 [09:43<00:00,  9.27s/it]\n",
      "2022-05-23 14:20:10,206 [INFO] network run in 583.76s\n",
      "2022-05-23 14:20:10,246 [INFO] No cell pixels found.\n",
      "2022-05-23 14:20:10,288 [INFO] No cell pixels found.\n",
      "2022-05-23 14:45:48,059 [INFO] stitching 63 planes using stitch_threshold=0.500 to make 3D masks\n",
      "2022-05-23 14:48:36,042 [INFO] masks created in 1705.84s\n"
     ]
    }
   ],
   "source": [
    "masks, flows, styles = model.eval(im, **cellpose_ini)"
   ]
  },
  {
   "cell_type": "code",
   "execution_count": 12,
   "id": "bd5dc963",
   "metadata": {},
   "outputs": [
    {
     "data": {
      "text/plain": [
       "<Labels layer 'masks' at 0x1cd9a992b20>"
      ]
     },
     "execution_count": 12,
     "metadata": {},
     "output_type": "execute_result"
    },
    {
     "name": "stderr",
     "output_type": "stream",
     "text": [
      "WARNING: Error drawing visual <Volume at 0x1cd067a0fd0>\n"
     ]
    },
    {
     "name": "stdout",
     "output_type": "stream",
     "text": [
      "2022-05-23 14:55:42,924 [WARNING] Error drawing visual <Volume at 0x1cd067a0fd0>\n"
     ]
    },
    {
     "name": "stderr",
     "output_type": "stream",
     "text": [
      "WARNING: Error drawing visual <Volume at 0x1cd067a0fd0>\n"
     ]
    },
    {
     "name": "stdout",
     "output_type": "stream",
     "text": [
      "2022-05-23 14:55:42,992 [WARNING] Error drawing visual <Volume at 0x1cd067a0fd0>\n"
     ]
    },
    {
     "name": "stderr",
     "output_type": "stream",
     "text": [
      "WARNING: Error drawing visual <Volume at 0x1cd067a0fd0>\n"
     ]
    },
    {
     "name": "stdout",
     "output_type": "stream",
     "text": [
      "2022-05-23 14:55:43,514 [WARNING] Error drawing visual <Volume at 0x1cd067a0fd0>\n"
     ]
    },
    {
     "name": "stderr",
     "output_type": "stream",
     "text": [
      "WARNING: Error drawing visual <Volume at 0x1cd067a0fd0>\n"
     ]
    },
    {
     "name": "stdout",
     "output_type": "stream",
     "text": [
      "2022-05-23 15:12:59,618 [WARNING] Error drawing visual <Volume at 0x1cd067a0fd0>\n"
     ]
    },
    {
     "name": "stderr",
     "output_type": "stream",
     "text": [
      "WARNING: Error drawing visual <Volume at 0x1cd067a0fd0>\n"
     ]
    },
    {
     "name": "stdout",
     "output_type": "stream",
     "text": [
      "2022-05-23 15:13:00,194 [WARNING] Error drawing visual <Volume at 0x1cd067a0fd0>\n"
     ]
    }
   ],
   "source": [
    "# Check segmentation in napari\n",
    "viewer.add_labels(masks)"
   ]
  },
  {
   "cell_type": "code",
   "execution_count": null,
   "id": "2a05986d",
   "metadata": {},
   "outputs": [],
   "source": [
    "# Save segmentation as picture\n",
    "output_file='F:20220517_PS19_161_RL_Atto425_520xl/output/dapi_segmentation'\n",
    "io.save_masks(im, masks, flows, file_names=output_file, png=False, \n",
    "              tif=True, save_outlines=True, save_flows=True)"
   ]
  },
  {
   "cell_type": "code",
   "execution_count": 13,
   "id": "b02a7972",
   "metadata": {},
   "outputs": [],
   "source": [
    "# Save mask array\n",
    "np.save(file='F:20220517_PS19_161_RL_Atto425_520xl/output_Left/dapi_segmentation/masks,npy', \n",
    "       arr=masks)"
   ]
  },
  {
   "cell_type": "code",
   "execution_count": null,
   "id": "b5dfaa27",
   "metadata": {},
   "outputs": [],
   "source": [
    "# Reload segmentation\n",
    "dat = np.load('F:20220517_PS19_161_RL_Atto425_520xl/output/dapi_segmentation/masks.npy', \n",
    "              allow_pickle=True)"
   ]
  },
  {
   "cell_type": "code",
   "execution_count": null,
   "id": "ebf649e5",
   "metadata": {},
   "outputs": [],
   "source": [
    "viewer.add_labels(dat)"
   ]
  }
 ],
 "metadata": {
  "kernelspec": {
   "display_name": "cellpose2",
   "language": "python",
   "name": "cellpose2"
  },
  "language_info": {
   "codemirror_mode": {
    "name": "ipython",
    "version": 3
   },
   "file_extension": ".py",
   "mimetype": "text/x-python",
   "name": "python",
   "nbconvert_exporter": "python",
   "pygments_lexer": "ipython3",
   "version": "3.8.13"
  }
 },
 "nbformat": 4,
 "nbformat_minor": 5
}
