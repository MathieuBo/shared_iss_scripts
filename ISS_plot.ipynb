{
 "cells": [
  {
   "cell_type": "code",
   "execution_count": 13,
   "metadata": {},
   "outputs": [],
   "source": [
    "from napari.viewer import Viewer\n",
    "from skimage.color import hsv2rgb"
   ]
  },
  {
   "cell_type": "code",
   "execution_count": 6,
   "metadata": {},
   "outputs": [],
   "source": [
    "viewer = Viewer()"
   ]
  },
  {
   "cell_type": "code",
   "execution_count": 7,
   "metadata": {},
   "outputs": [],
   "source": [
    "shape= ['arrow', 'clobber', 'cross', 'diamond', 'disc', 'hbar', 'ring',\n",
    "    'square', 'star', 'tailed_arrow', 'triangle_down', 'triangle_up', 'vbar', 'x']"
   ]
  },
  {
   "cell_type": "code",
   "execution_count": 23,
   "metadata": {},
   "outputs": [],
   "source": [
    "in_general = hsv2rgb([2/3, 1, 1])\n",
    "sst =   hsv2rgb([.55, 1, 1])\n",
    "pvalb = hsv2rgb([.7, .8, 1])\n",
    "ngf =   hsv2rgb([.85, 1, 1])\n",
    "cnr1 =  hsv2rgb([ 1, 0, 0])\n",
    "vip =   hsv2rgb([ .13, 1, 1])\n",
    "cxcl14= hsv2rgb([.1, 1, .6])"
   ]
  },
  {
   "cell_type": "code",
   "execution_count": 10,
   "metadata": {},
   "outputs": [],
   "source": [
    "for i,j in enumerate(shape):\n",
    "    \n",
    "    viewer.add_points(data=(1,i), symbol=j, size=2)\n"
   ]
  },
  {
   "cell_type": "code",
   "execution_count": 11,
   "metadata": {},
   "outputs": [],
   "source": [
    "ordered = ['cross', 'ring', 'star', 'disc', 'x', 'square', 'diamond', 'triangle_up', 'triangle_down', 'hbar', 'vbar']"
   ]
  },
  {
   "cell_type": "code",
   "execution_count": 25,
   "metadata": {},
   "outputs": [],
   "source": [
    "symbols = []\n",
    "colors = []\n",
    "coords = []\n",
    "\n",
    "for l, c in enumerate([in_general, sst, pvalb, ngf, cnr1, vip, cxcl14]): \n",
    "\n",
    "    for i,j in enumerate(ordered):\n",
    "        \n",
    "        coords.append((l,i))\n",
    "        symbols.append(j)\n",
    "        colors.append(c)\n",
    "        "
   ]
  },
  {
   "cell_type": "code",
   "execution_count": 27,
   "metadata": {},
   "outputs": [
    {
     "data": {
      "text/plain": [
       "['cross',\n",
       " 'ring',\n",
       " 'star',\n",
       " 'disc',\n",
       " 'x',\n",
       " 'square',\n",
       " 'diamond',\n",
       " 'triangle_up',\n",
       " 'triangle_down',\n",
       " 'hbar',\n",
       " 'vbar',\n",
       " 'cross',\n",
       " 'ring',\n",
       " 'star',\n",
       " 'disc',\n",
       " 'x',\n",
       " 'square',\n",
       " 'diamond',\n",
       " 'triangle_up',\n",
       " 'triangle_down',\n",
       " 'hbar',\n",
       " 'vbar',\n",
       " 'cross',\n",
       " 'ring',\n",
       " 'star',\n",
       " 'disc',\n",
       " 'x',\n",
       " 'square',\n",
       " 'diamond',\n",
       " 'triangle_up',\n",
       " 'triangle_down',\n",
       " 'hbar',\n",
       " 'vbar',\n",
       " 'cross',\n",
       " 'ring',\n",
       " 'star',\n",
       " 'disc',\n",
       " 'x',\n",
       " 'square',\n",
       " 'diamond',\n",
       " 'triangle_up',\n",
       " 'triangle_down',\n",
       " 'hbar',\n",
       " 'vbar',\n",
       " 'cross',\n",
       " 'ring',\n",
       " 'star',\n",
       " 'disc',\n",
       " 'x',\n",
       " 'square',\n",
       " 'diamond',\n",
       " 'triangle_up',\n",
       " 'triangle_down',\n",
       " 'hbar',\n",
       " 'vbar',\n",
       " 'cross',\n",
       " 'ring',\n",
       " 'star',\n",
       " 'disc',\n",
       " 'x',\n",
       " 'square',\n",
       " 'diamond',\n",
       " 'triangle_up',\n",
       " 'triangle_down',\n",
       " 'hbar',\n",
       " 'vbar',\n",
       " 'cross',\n",
       " 'ring',\n",
       " 'star',\n",
       " 'disc',\n",
       " 'x',\n",
       " 'square',\n",
       " 'diamond',\n",
       " 'triangle_up',\n",
       " 'triangle_down',\n",
       " 'hbar',\n",
       " 'vbar']"
      ]
     },
     "execution_count": 27,
     "metadata": {},
     "output_type": "execute_result"
    }
   ],
   "source": [
    "symbols"
   ]
  },
  {
   "cell_type": "code",
   "execution_count": 29,
   "metadata": {},
   "outputs": [
    {
     "data": {
      "text/plain": [
       "<Points layer 'Points [2]' at 0x15b56e250>"
      ]
     },
     "execution_count": 29,
     "metadata": {},
     "output_type": "execute_result"
    }
   ],
   "source": [
    "viewer.add_points(data=coords, symbol='star', size=1, face_color=colors)"
   ]
  },
  {
   "cell_type": "code",
   "execution_count": null,
   "metadata": {},
   "outputs": [],
   "source": []
  }
 ],
 "metadata": {
  "kernelspec": {
   "display_name": "napari",
   "language": "python",
   "name": "napari"
  },
  "language_info": {
   "codemirror_mode": {
    "name": "ipython",
    "version": 3
   },
   "file_extension": ".py",
   "mimetype": "text/x-python",
   "name": "python",
   "nbconvert_exporter": "python",
   "pygments_lexer": "ipython3",
   "version": "3.9.5"
  }
 },
 "nbformat": 4,
 "nbformat_minor": 4
}
