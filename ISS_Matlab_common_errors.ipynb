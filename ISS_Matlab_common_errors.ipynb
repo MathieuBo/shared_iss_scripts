{
 "cells": [
  {
   "cell_type": "markdown",
   "id": "d953cc6d",
   "metadata": {},
   "source": [
    "Error that may pop up due to running the script with Matlab 2022\n",
    "\n",
    "*Error in iss/extract_and_filter_NoGPU (line 27)\n",
    "\n",
    " *bfreader = loci.formats.Memoizer(bfGetReader(), 0);\n",
    "\n",
    "*Error in bridge_process_template (line 114)\n",
    "\n",
    "*o = o.extract_and_filter_NoGPU;"
   ]
  },
  {
   "cell_type": "code",
   "execution_count": null,
   "id": "1a8ba45c",
   "metadata": {},
   "outputs": [],
   "source": [
    "#change bfreader = loci.formats.Memoizer(bfGetReader(), 0); in extract_and_filter_NoGPU.m line 27 to\n",
    "bfreader = bfGetReader();\n",
    "#in bridge_process_template.m (line 86-87) set\n",
    "o.ExtractScale = 5.5;  \n",
    "o.ExtractScaleAnchor = 5.5;\n"
   ]
  },
  {
   "cell_type": "markdown",
   "id": "80b91821",
   "metadata": {},
   "source": [
    "Error that may appear after the extract & filter step:\n",
    "    *Error using get_initial_bleed_matrix\n",
    "    No Info for Laser 750nm.\n",
    "    Look at DyeIntensityInfo/dye_camera_laser_raw_intensity.csv for\n",
    "    all possible lasers. Closest is 730nm.*\n",
    "\n",
    "   *Error in bridge_process_template (line 181)\n",
    "    o.InitialBleedMatrix = get_initial_bleed_matrix(o.DyeNames,\n",
    "    o.Camera, o.Laser);*"
   ]
  },
  {
   "cell_type": "code",
   "execution_count": null,
   "id": "cf615726",
   "metadata": {},
   "outputs": [],
   "source": [
    "#first run:\n",
    "o.Laser(o.Laser==750)=730;\n",
    "\n",
    "#then run everything in bridge_process_template.m from and including the line: o.InitialBleedMatrix = get_initial_bleed_matrix(o.DyeNames, o.Camera, o.Laser);"
   ]
  }
 ],
 "metadata": {
  "kernelspec": {
   "display_name": "Python 3 (ipykernel)",
   "language": "python",
   "name": "python3"
  },
  "language_info": {
   "codemirror_mode": {
    "name": "ipython",
    "version": 3
   },
   "file_extension": ".py",
   "mimetype": "text/x-python",
   "name": "python",
   "nbconvert_exporter": "python",
   "pygments_lexer": "ipython3",
   "version": "3.9.7"
  }
 },
 "nbformat": 4,
 "nbformat_minor": 5
}
