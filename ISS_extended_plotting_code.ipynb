{
 "cells": [
  {
   "cell_type": "markdown",
   "id": "eb2b0f2e",
   "metadata": {},
   "source": [
    "**Histogram of the number of spots per gene** \n",
    "Counts per gene throughout the sequenced area."
   ]
  },
  {
   "cell_type": "code",
   "execution_count": null,
   "id": "dc6cc131",
   "metadata": {},
   "outputs": [],
   "source": [
    "#Read in the o.Call_spots.mat\n",
    "\n",
    "nGenes = length(o.CharCodes);  \n",
    "QualOK = o.quality_threshold;  \n",
    "figure; histogram(o.SpotCodeNo(QualOK),1-0.5:nGenes+0.5);  \n",
    "xticks(1:nGenes);  \n",
    "xticklabels(o.GeneNames);"
   ]
  },
  {
   "cell_type": "markdown",
   "id": "406a12df",
   "metadata": {},
   "source": [
    "**Clustering spots**\n",
    "This code is compatible with the 3D version of SpotSetClustered."
   ]
  },
  {
   "cell_type": "code",
   "execution_count": null,
   "id": "3941b6eb",
   "metadata": {},
   "outputs": [],
   "source": [
    "#First set o.CombiQualThresh to the desired level\n",
    "\n",
    "SpotSet = o.quality_threshold #this will basically just run SpotSet = o.SpotIntensity > o.CombiIntensityThresh & o.SpotScore > o.CombiQualThresh.\n",
    "SpotSetClustered = get_gene_clusters(o,'DotProduct',r,k,SpotSet) #the method should match the method that was used for the sequencing analysis\n",
    "iss_change_plot(o,'DotProduct','Neuron',o.GeneNames, SpotSetClustered)"
   ]
  },
  {
   "cell_type": "markdown",
   "id": "664e44f5",
   "metadata": {},
   "source": [
    "**Overlay max projection IF image with the full spot stack**\n",
    "Filtering or clustering of gene sets should be done after running the code below."
   ]
  },
  {
   "cell_type": "code",
   "execution_count": null,
   "id": "061dd657",
   "metadata": {},
   "outputs": [],
   "source": [
    "#Plot the sequencing data as usual using the %%plot results part in bridge_process_template, with o.PlotZThick=57;\n",
    "BackgroundFile= '.../experiment/maxZproj.tif'; #Add in the maximum projection image that can be generated in FIJI\n",
    "BackgroundImage = imread(BackgroundFile);  \n",
    "Roi = round([1, max(o.SpotGlobalYXZ(:,2)), 1, max(o.SpotGlobalYXZ(:,1)), 1, 1]); #This sets the X, Y, Z part of the data to use. The last two ones indicate we only want data between z-planes 1 and 1 i.e. only 1 plane.  \n",
    "o.plot(BackgroundImage, Roi);\n",
    "caxis([min(BackgroundImage(:)), max(BackgroundImage(:))]); #auto-scale the intensity of the background image"
   ]
  }
 ],
 "metadata": {
  "kernelspec": {
   "display_name": "Python 3 (ipykernel)",
   "language": "python",
   "name": "python3"
  },
  "language_info": {
   "codemirror_mode": {
    "name": "ipython",
    "version": 3
   },
   "file_extension": ".py",
   "mimetype": "text/x-python",
   "name": "python",
   "nbconvert_exporter": "python",
   "pygments_lexer": "ipython3",
   "version": "3.9.7"
  }
 },
 "nbformat": 4,
 "nbformat_minor": 5
}
